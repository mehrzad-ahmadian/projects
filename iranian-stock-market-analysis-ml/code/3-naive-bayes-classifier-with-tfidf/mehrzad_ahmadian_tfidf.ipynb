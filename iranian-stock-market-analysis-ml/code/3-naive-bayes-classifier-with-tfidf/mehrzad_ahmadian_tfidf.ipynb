{
  "cells": [
    {
      "cell_type": "code",
      "source": [
        "import os"
      ],
      "metadata": {
        "id": "e_6YMxQzRrV5"
      },
      "execution_count": 1,
      "outputs": []
    },
    {
      "metadata": {
        "trusted": true,
        "id": "hJPQYV5dcN-s"
      },
      "cell_type": "code",
      "source": [
        "# hyperparameters\n",
        "\n",
        "\n",
        "# trainDataset = 'taaghche'\n",
        "\n",
        "trainDataset = 'stocks'\n",
        "trainDatasetFile = 'sentiment'\n",
        "# trainDatasetFile = 'signal'\n"
      ],
      "execution_count": 2,
      "outputs": []
    },
    {
      "cell_type": "code",
      "source": [
        "# %%capture\n",
        "!mkdir dataset\n",
        "!wget https://ahmadian.me/final-dataset/taaghche.csv -O dataset/taaghche.csv\n",
        "\n",
        "!wget https://ahmadian.me/final-dataset/stocks-test-sentiment.csv -O dataset/stocks-test-sentiment.csv\n",
        "!wget https://ahmadian.me/final-dataset/stocks-test-signal.csv -O dataset/stocks-test-signal.csv\n",
        "!wget https://ahmadian.me/final-dataset/stocks-train-sentiment.csv -O dataset/stocks-train-sentiment.csv\n",
        "!wget https://ahmadian.me/final-dataset/stocks-train-signal.csv -O dataset/stocks-train-signal.csv"
      ],
      "metadata": {
        "id": "pZ1l0EvXcT3H",
        "colab": {
          "base_uri": "https://localhost:8080/"
        },
        "outputId": "10a84aca-d7e1-490c-e451-f1e79c953521"
      },
      "execution_count": 3,
      "outputs": [
        {
          "output_type": "stream",
          "name": "stdout",
          "text": [
            "--2022-07-05 19:10:23--  https://ahmadian.me/final-dataset/taaghche.csv\n",
            "Resolving ahmadian.me (ahmadian.me)... 157.90.0.201\n",
            "Connecting to ahmadian.me (ahmadian.me)|157.90.0.201|:443... connected.\n",
            "HTTP request sent, awaiting response... 200 OK\n",
            "Length: 22056405 (21M) [text/csv]\n",
            "Saving to: ‘dataset/taaghche.csv’\n",
            "\n",
            "dataset/taaghche.cs 100%[===================>]  21.03M  13.4MB/s    in 1.6s    \n",
            "\n",
            "2022-07-05 19:10:25 (13.4 MB/s) - ‘dataset/taaghche.csv’ saved [22056405/22056405]\n",
            "\n",
            "--2022-07-05 19:10:26--  https://ahmadian.me/final-dataset/stocks-test-sentiment.csv\n",
            "Resolving ahmadian.me (ahmadian.me)... 157.90.0.201\n",
            "Connecting to ahmadian.me (ahmadian.me)|157.90.0.201|:443... connected.\n",
            "HTTP request sent, awaiting response... 200 OK\n",
            "Length: 287771 (281K) [text/csv]\n",
            "Saving to: ‘dataset/stocks-test-sentiment.csv’\n",
            "\n",
            "dataset/stocks-test 100%[===================>] 281.03K   635KB/s    in 0.4s    \n",
            "\n",
            "2022-07-05 19:10:26 (635 KB/s) - ‘dataset/stocks-test-sentiment.csv’ saved [287771/287771]\n",
            "\n",
            "--2022-07-05 19:10:27--  https://ahmadian.me/final-dataset/stocks-test-signal.csv\n",
            "Resolving ahmadian.me (ahmadian.me)... 157.90.0.201\n",
            "Connecting to ahmadian.me (ahmadian.me)|157.90.0.201|:443... connected.\n",
            "HTTP request sent, awaiting response... 200 OK\n",
            "Length: 358777 (350K) [text/csv]\n",
            "Saving to: ‘dataset/stocks-test-signal.csv’\n",
            "\n",
            "dataset/stocks-test 100%[===================>] 350.37K   785KB/s    in 0.4s    \n",
            "\n",
            "2022-07-05 19:10:27 (785 KB/s) - ‘dataset/stocks-test-signal.csv’ saved [358777/358777]\n",
            "\n",
            "--2022-07-05 19:10:28--  https://ahmadian.me/final-dataset/stocks-train-sentiment.csv\n",
            "Resolving ahmadian.me (ahmadian.me)... 157.90.0.201\n",
            "Connecting to ahmadian.me (ahmadian.me)|157.90.0.201|:443... connected.\n",
            "HTTP request sent, awaiting response... 200 OK\n",
            "Length: 849212 (829K) [text/csv]\n",
            "Saving to: ‘dataset/stocks-train-sentiment.csv’\n",
            "\n",
            "dataset/stocks-trai 100%[===================>] 829.31K  1.45MB/s    in 0.6s    \n",
            "\n",
            "2022-07-05 19:10:29 (1.45 MB/s) - ‘dataset/stocks-train-sentiment.csv’ saved [849212/849212]\n",
            "\n",
            "--2022-07-05 19:10:29--  https://ahmadian.me/final-dataset/stocks-train-signal.csv\n",
            "Resolving ahmadian.me (ahmadian.me)... 157.90.0.201\n",
            "Connecting to ahmadian.me (ahmadian.me)|157.90.0.201|:443... connected.\n",
            "HTTP request sent, awaiting response... 200 OK\n",
            "Length: 778206 (760K) [text/csv]\n",
            "Saving to: ‘dataset/stocks-train-signal.csv’\n",
            "\n",
            "dataset/stocks-trai 100%[===================>] 759.97K  1.32MB/s    in 0.6s    \n",
            "\n",
            "2022-07-05 19:10:30 (1.32 MB/s) - ‘dataset/stocks-train-signal.csv’ saved [778206/778206]\n",
            "\n"
          ]
        }
      ]
    },
    {
      "metadata": {
        "trusted": true,
        "id": "D3mvfHxVcN-i",
        "colab": {
          "base_uri": "https://localhost:8080/"
        },
        "outputId": "853663c2-5274-4917-c66d-ec0cf1086087"
      },
      "cell_type": "code",
      "source": [
        "# %%capture\n",
        "!pip install -qU hazm\n",
        "!pip install -qU clean-text[gpl]"
      ],
      "execution_count": 4,
      "outputs": [
        {
          "output_type": "stream",
          "name": "stdout",
          "text": [
            "\u001b[?25l\r\u001b[K     |█                               | 10 kB 17.1 MB/s eta 0:00:01\r\u001b[K     |██                              | 20 kB 11.9 MB/s eta 0:00:01\r\u001b[K     |███                             | 30 kB 8.9 MB/s eta 0:00:01\r\u001b[K     |████▏                           | 40 kB 4.7 MB/s eta 0:00:01\r\u001b[K     |█████▏                          | 51 kB 4.2 MB/s eta 0:00:01\r\u001b[K     |██████▏                         | 61 kB 4.9 MB/s eta 0:00:01\r\u001b[K     |███████▎                        | 71 kB 5.3 MB/s eta 0:00:01\r\u001b[K     |████████▎                       | 81 kB 5.1 MB/s eta 0:00:01\r\u001b[K     |█████████▎                      | 92 kB 5.7 MB/s eta 0:00:01\r\u001b[K     |██████████▍                     | 102 kB 5.3 MB/s eta 0:00:01\r\u001b[K     |███████████▍                    | 112 kB 5.3 MB/s eta 0:00:01\r\u001b[K     |████████████▍                   | 122 kB 5.3 MB/s eta 0:00:01\r\u001b[K     |█████████████▌                  | 133 kB 5.3 MB/s eta 0:00:01\r\u001b[K     |██████████████▌                 | 143 kB 5.3 MB/s eta 0:00:01\r\u001b[K     |███████████████▌                | 153 kB 5.3 MB/s eta 0:00:01\r\u001b[K     |████████████████▋               | 163 kB 5.3 MB/s eta 0:00:01\r\u001b[K     |█████████████████▋              | 174 kB 5.3 MB/s eta 0:00:01\r\u001b[K     |██████████████████▋             | 184 kB 5.3 MB/s eta 0:00:01\r\u001b[K     |███████████████████▋            | 194 kB 5.3 MB/s eta 0:00:01\r\u001b[K     |████████████████████▊           | 204 kB 5.3 MB/s eta 0:00:01\r\u001b[K     |█████████████████████▊          | 215 kB 5.3 MB/s eta 0:00:01\r\u001b[K     |██████████████████████▊         | 225 kB 5.3 MB/s eta 0:00:01\r\u001b[K     |███████████████████████▉        | 235 kB 5.3 MB/s eta 0:00:01\r\u001b[K     |████████████████████████▉       | 245 kB 5.3 MB/s eta 0:00:01\r\u001b[K     |█████████████████████████▉      | 256 kB 5.3 MB/s eta 0:00:01\r\u001b[K     |███████████████████████████     | 266 kB 5.3 MB/s eta 0:00:01\r\u001b[K     |████████████████████████████    | 276 kB 5.3 MB/s eta 0:00:01\r\u001b[K     |█████████████████████████████   | 286 kB 5.3 MB/s eta 0:00:01\r\u001b[K     |██████████████████████████████  | 296 kB 5.3 MB/s eta 0:00:01\r\u001b[K     |███████████████████████████████ | 307 kB 5.3 MB/s eta 0:00:01\r\u001b[K     |████████████████████████████████| 316 kB 5.3 MB/s \n",
            "\u001b[K     |████████████████████████████████| 233 kB 35.8 MB/s \n",
            "\u001b[K     |████████████████████████████████| 1.4 MB 35.6 MB/s \n",
            "\u001b[?25h  Building wheel for nltk (setup.py) ... \u001b[?25l\u001b[?25hdone\n",
            "  Building wheel for libwapiti (setup.py) ... \u001b[?25l\u001b[?25hdone\n",
            "\u001b[K     |████████████████████████████████| 175 kB 5.0 MB/s \n",
            "\u001b[K     |████████████████████████████████| 53 kB 1.4 MB/s \n",
            "\u001b[K     |████████████████████████████████| 235 kB 48.7 MB/s \n",
            "\u001b[?25h  Building wheel for emoji (setup.py) ... \u001b[?25l\u001b[?25hdone\n"
          ]
        }
      ]
    },
    {
      "metadata": {
        "trusted": true,
        "id": "gfDmZQbucN-j"
      },
      "cell_type": "code",
      "source": [
        "import numpy as np\n",
        "import pandas as pd\n",
        "\n",
        "from sklearn.model_selection import train_test_split\n",
        "from sklearn.metrics import classification_report\n",
        "from sklearn.metrics import f1_score\n",
        "from sklearn.utils import shuffle\n",
        "\n",
        "import hazm\n",
        "from cleantext import clean\n",
        "\n",
        "import plotly.express as px\n",
        "import plotly.graph_objects as go\n",
        "\n",
        "from tqdm.notebook import tqdm\n",
        "\n",
        "import os\n",
        "import re\n",
        "import json\n",
        "import copy\n",
        "import collections\n",
        "import matplotlib.pyplot as plt"
      ],
      "execution_count": 5,
      "outputs": []
    },
    {
      "metadata": {
        "_uuid": "d629ff2d2480ee46fbb7e2d37f6b5fab8052498a",
        "_cell_guid": "79c7e3d0-c299-4dcb-8224-4455121ee9b0",
        "trusted": true,
        "id": "Q8AbmTadcN-k"
      },
      "cell_type": "code",
      "source": [
        "if trainDataset == 'taaghche':\n",
        "    data = pd.read_csv('dataset/taaghche.csv', encoding='utf-8')\n",
        "    data = data[['comment', 'rate']]\n",
        "\n",
        "\n",
        "    # handle some conflicts with the dataset structure\n",
        "    # you can find a reliable solution, for the sake of the simplicity\n",
        "    # I just remove these bad combinations!\n",
        "    data['rate'] = data['rate'].apply(lambda r: r if r < 6 else None)\n",
        "\n",
        "    data = data.dropna(subset=['rate'])\n",
        "    data = data.dropna(subset=['comment'])\n",
        "    data = data.drop_duplicates(subset=['comment'], keep='first')\n",
        "    data = data.reset_index(drop=True)\n",
        "\n",
        "\n",
        "    # calculate the length of comments based on their words\n",
        "    data['comment_len_by_words'] = data['comment'].apply(lambda t: len(hazm.word_tokenize(t)))\n",
        "\n",
        "\n",
        "    def rate_to_label(rate, threshold=3.0):\n",
        "        if rate <= threshold:\n",
        "            return 'negative'\n",
        "        else:\n",
        "            return 'positive'\n",
        "\n",
        "\n",
        "    data['label'] = data['rate'].apply(lambda t: rate_to_label(t, 3.0))\n",
        "    data.head()\n",
        "elif trainDataset == 'stocks':\n",
        "    if trainDatasetFile == 'sentiment':\n",
        "        data = pd.read_csv('dataset/stocks-train-sentiment.csv', encoding='utf-8')\n",
        "    else:\n",
        "        data = pd.read_csv('dataset/stocks-train-signal.csv', encoding='utf-8')\n",
        "\n",
        "\n",
        "    data = data[['message', 'sentiment_label']]\n",
        "    data = data.rename(columns={\"message\": \"comment\", \"sentiment_label\": \"label_id\"})\n",
        "\n",
        "\n",
        "    # data = data[data['label_id'] != 0]\n",
        "\n",
        "    data['label'] = data['label_id']\n",
        "    data = data.replace({'label': {0: 'neutral', 1: 'positive', 2: 'negative'}})\n",
        "\n",
        "\n",
        "    # calculate the length of comments based on their words\n",
        "    data['comment_len_by_words'] = data['comment'].apply(lambda t: len(hazm.word_tokenize(t)))\n",
        "\n",
        "\n",
        "\n",
        "\n",
        "    if trainDatasetFile == 'sentiment':\n",
        "        dataTest = pd.read_csv('dataset/stocks-test-sentiment.csv', encoding='utf-8')\n",
        "    else:\n",
        "        dataTest = pd.read_csv('dataset/stocks-test-signal.csv', encoding='utf-8')\n",
        "\n",
        "    dataTest = dataTest[['message', 'sentiment_label']]\n",
        "    dataTest = dataTest.rename(columns={\"message\": \"comment\", \"sentiment_label\": \"label_id\"})\n",
        "\n",
        "\n",
        "    # dataTest = dataTest[dataTest['label_id'] != 0]\n",
        "\n",
        "    dataTest['label'] = dataTest['label_id']\n",
        "    dataTest = dataTest.replace({'label': {0: 'neutral', 1: 'positive', 2: 'negative'}})\n",
        "\n",
        "\n",
        "    # calculate the length of comments based on their words\n",
        "    dataTest['comment_len_by_words'] = dataTest['comment'].apply(lambda t: len(hazm.word_tokenize(t)))\n",
        "\n",
        "\n",
        "\n",
        "\n",
        "labels = list(sorted(data['label'].unique()))"
      ],
      "execution_count": 7,
      "outputs": []
    },
    {
      "metadata": {
        "trusted": true,
        "id": "enjRqEwfcN-m"
      },
      "cell_type": "code",
      "source": [
        "def data_gl_than(data, less_than=100.0, greater_than=0.0, col='comment_len_by_words'):\n",
        "    data_length = data[col].values\n",
        "\n",
        "    data_glt = sum([1 for length in data_length if greater_than < length <= less_than])\n",
        "\n",
        "    data_glt_rate = (data_glt / len(data_length)) * 100\n",
        "\n",
        "    print(f'Texts with word length of greater than {greater_than} and less than {less_than} includes {data_glt_rate:.2f}% of the whole!')"
      ],
      "execution_count": 8,
      "outputs": []
    },
    {
      "metadata": {
        "trusted": true,
        "id": "pLNF1SrWcN-o"
      },
      "cell_type": "code",
      "source": [
        "def cleanhtml(raw_html):\n",
        "    cleanr = re.compile('<.*?>')\n",
        "    cleantext = re.sub(cleanr, '', raw_html)\n",
        "    return cleantext\n",
        "\n",
        "\n",
        "def cleaning(text):\n",
        "    text = text.strip()\n",
        "    \n",
        "    # regular cleaning\n",
        "    text = clean(text,\n",
        "        fix_unicode=True,\n",
        "        to_ascii=False,\n",
        "        lower=True,\n",
        "        no_line_breaks=True,\n",
        "        no_urls=True,\n",
        "        no_emails=True,\n",
        "        no_phone_numbers=True,\n",
        "        no_numbers=False,\n",
        "        no_digits=False,\n",
        "        no_currency_symbols=True,\n",
        "        no_punct=False,\n",
        "        replace_with_url=\"\",\n",
        "        replace_with_email=\"\",\n",
        "        replace_with_phone_number=\"\",\n",
        "        replace_with_number=\"\",\n",
        "        replace_with_digit=\"0\",\n",
        "        replace_with_currency_symbol=\"\",\n",
        "    )\n",
        "\n",
        "    # cleaning htmls\n",
        "    text = cleanhtml(text)\n",
        "    \n",
        "    # normalizing\n",
        "    normalizer = hazm.Normalizer()\n",
        "    text = normalizer.normalize(text)\n",
        "    \n",
        "    # removing wierd patterns\n",
        "    wierd_pattern = re.compile(\"[\"\n",
        "        u\"\\U0001F600-\\U0001F64F\"  # emoticons\n",
        "        u\"\\U0001F300-\\U0001F5FF\"  # symbols & pictographs\n",
        "        u\"\\U0001F680-\\U0001F6FF\"  # transport & map symbols\n",
        "        u\"\\U0001F1E0-\\U0001F1FF\"  # flags (iOS)\n",
        "        u\"\\U00002702-\\U000027B0\"\n",
        "        u\"\\U000024C2-\\U0001F251\"\n",
        "        u\"\\U0001f926-\\U0001f937\"\n",
        "        u'\\U00010000-\\U0010ffff'\n",
        "        u\"\\u200d\"\n",
        "        u\"\\u2640-\\u2642\"\n",
        "        u\"\\u2600-\\u2B55\"\n",
        "        u\"\\u23cf\"\n",
        "        u\"\\u23e9\"\n",
        "        u\"\\u231a\"\n",
        "        u\"\\u3030\"\n",
        "        u\"\\ufe0f\"\n",
        "        u\"\\u2069\"\n",
        "        u\"\\u2066\"\n",
        "        # u\"\\u200c\"\n",
        "        u\"\\u2068\"\n",
        "        u\"\\u2067\"\n",
        "        \"]+\", flags=re.UNICODE)\n",
        "    \n",
        "    text = wierd_pattern.sub(r'', text)\n",
        "    \n",
        "    # removing extra spaces, hashtags\n",
        "    text = re.sub(\"#\", \"\", text)\n",
        "    text = re.sub(\"\\s+\", \" \", text)\n",
        "    \n",
        "    return text"
      ],
      "execution_count": 9,
      "outputs": []
    },
    {
      "metadata": {
        "trusted": true,
        "colab": {
          "base_uri": "https://localhost:8080/"
        },
        "id": "2O5RdY5ucN-m",
        "outputId": "09783521-0645-425d-c349-0d95939cdab4"
      },
      "cell_type": "code",
      "source": [
        "data_gl_than(data, 256, 3)\n",
        "\n",
        "\n",
        "minlim, maxlim = 3, 256\n",
        "\n",
        "\n",
        "# remove comments with the length of fewer than three words\n",
        "data['comment_len_by_words'] = data['comment_len_by_words'].apply(lambda len_t: len_t if minlim < len_t <= maxlim else None)\n",
        "data = data.dropna(subset=['comment_len_by_words'])\n",
        "data = data.reset_index(drop=True)\n",
        "\n",
        "\n",
        "# cleaning comments\n",
        "data['cleaned_comment'] = data['comment'].apply(cleaning)\n",
        "\n",
        "\n",
        "# calculate the length of comments based on their words\n",
        "data['cleaned_comment_len_by_words'] = data['cleaned_comment'].apply(lambda t: len(hazm.word_tokenize(t)))\n",
        "\n",
        "# remove comments with the length of fewer than three words\n",
        "data['cleaned_comment_len_by_words'] = data['cleaned_comment_len_by_words'].apply(lambda len_t: len_t if minlim < len_t <= maxlim else len_t)\n",
        "data = data.dropna(subset=['cleaned_comment_len_by_words'])\n",
        "data = data.reset_index(drop=True)\n",
        "\n",
        "data.head()\n",
        "\n",
        "\n",
        "data = data[['cleaned_comment', 'label']]\n",
        "data.columns = ['comment', 'label']\n",
        "data.head()\n",
        "\n",
        "\n",
        "if trainDataset == 'stocks':\n",
        "    data_gl_than(dataTest, 256, 3)\n",
        "\n",
        "\n",
        "    minlim, maxlim = 3, 256\n",
        "\n",
        "\n",
        "    # remove comments with the length of fewer than three words\n",
        "    dataTest['comment_len_by_words'] = dataTest['comment_len_by_words'].apply(lambda len_t: len_t if minlim < len_t <= maxlim else None)\n",
        "    dataTest = dataTest.dropna(subset=['comment_len_by_words'])\n",
        "    dataTest = dataTest.reset_index(drop=True)\n",
        "\n",
        "\n",
        "    # cleaning comments\n",
        "    dataTest['cleaned_comment'] = dataTest['comment'].apply(cleaning)\n",
        "\n",
        "\n",
        "    # calculate the length of comments based on their words\n",
        "    dataTest['cleaned_comment_len_by_words'] = dataTest['cleaned_comment'].apply(lambda t: len(hazm.word_tokenize(t)))\n",
        "\n",
        "    # remove comments with the length of fewer than three words\n",
        "    dataTest['cleaned_comment_len_by_words'] = dataTest['cleaned_comment_len_by_words'].apply(lambda len_t: len_t if minlim < len_t <= maxlim else len_t)\n",
        "    dataTest = dataTest.dropna(subset=['cleaned_comment_len_by_words'])\n",
        "    dataTest = dataTest.reset_index(drop=True)\n",
        "\n",
        "    dataTest.head()\n",
        "\n",
        "\n",
        "    dataTest = dataTest[['cleaned_comment', 'label']]\n",
        "    dataTest.columns = ['comment', 'label']\n",
        "    dataTest.head()"
      ],
      "execution_count": 10,
      "outputs": [
        {
          "output_type": "stream",
          "name": "stdout",
          "text": [
            "Texts with word length of greater than 3 and less than 256 includes 99.04% of the whole!\n",
            "Texts with word length of greater than 3 and less than 256 includes 94.37% of the whole!\n"
          ]
        }
      ]
    },
    {
      "metadata": {
        "trusted": true,
        "id": "leHOJ5nPcN-q"
      },
      "cell_type": "code",
      "source": [
        "new_data = data\n",
        "\n",
        "if trainDataset == 'stocks':\n",
        "    new_data_test = dataTest"
      ],
      "execution_count": 11,
      "outputs": []
    },
    {
      "metadata": {
        "trusted": true,
        "id": "IYkQy7AtcN-q",
        "colab": {
          "base_uri": "https://localhost:8080/"
        },
        "outputId": "595ad482-9ded-4412-fe80-8997ebdf5a32"
      },
      "cell_type": "code",
      "source": [
        "# split data to train valid test\n",
        "new_data['label_id'] = new_data['label'].apply(lambda t: labels.index(t))\n",
        "\n",
        "if trainDataset == 'stocks':\n",
        "    new_data_test['label_id'] = new_data_test['label'].apply(lambda t: labels.index(t))\n",
        "    valid, test = train_test_split(new_data_test, test_size=0.1, random_state=1, stratify=new_data_test['label'])\n",
        "    train = data\n",
        "else:\n",
        "    train, test = train_test_split(new_data, test_size=0.1, random_state=1, stratify=new_data['label'])\n",
        "    train, valid = train_test_split(train, test_size=0.1, random_state=1, stratify=train['label'])\n",
        "\n",
        "train = train.reset_index(drop=True)\n",
        "valid = valid.reset_index(drop=True)\n",
        "test = test.reset_index(drop=True)\n",
        "\n",
        "x_train, y_train = train['comment'].values.tolist(), train['label_id'].values.tolist()\n",
        "x_valid, y_valid = valid['comment'].values.tolist(), valid['label_id'].values.tolist()\n",
        "x_test, y_test = test['comment'].values.tolist(), test['label_id'].values.tolist()\n",
        "\n",
        "print(train.shape)\n",
        "print(valid.shape)\n",
        "print(test.shape)\n",
        "\n",
        "label_list = ['negative', 'positive', 'neutral']"
      ],
      "execution_count": 12,
      "outputs": [
        {
          "output_type": "stream",
          "name": "stdout",
          "text": [
            "(206, 3)\n",
            "(60, 3)\n",
            "(7, 3)\n"
          ]
        }
      ]
    },
    {
      "cell_type": "code",
      "source": [
        "import seaborn as sns\n",
        "import sklearn.metrics as metrics\n",
        "from sklearn.feature_extraction.text import TfidfVectorizer\n",
        "\n",
        "modifyFeatures = {\n",
        "    'افزایش': 10,\n",
        "    'رشد': 10,\n",
        "    'بهبود': 10,\n",
        "    'مثبت': 10,\n",
        "    'صف خرید': 10,\n",
        "    'خرید': 10,\n",
        "    \n",
        "    'کاهش': 10,\n",
        "    'افت': 10,\n",
        "    'حاصل نکرده': 10,\n",
        "    'منفی': 10,\n",
        "    'صف فروش': 10,\n",
        "    'ریزش': 10,\n",
        "}\n",
        "\n",
        "train = pd.concat([train, valid, test])\n",
        "\n",
        "commentsData = train['comment'].to_numpy()\n",
        "yData = [label_list.index(label) for label in train['label'].values]\n",
        "\n",
        "# Building a TF IDF matrix out of the corpus of reviews\n",
        "\n",
        "td = TfidfVectorizer(max_features = 4500)\n",
        "commentsData = td.fit_transform(commentsData).toarray()\n",
        "\n",
        "features = td.get_feature_names()\n",
        "\n",
        "for key in modifyFeatures:\n",
        "    if key in features:\n",
        "        idx = features.index(key)\n",
        "        for comment in commentsData:\n",
        "          comment[idx] *= modifyFeatures[key]\n",
        "\n",
        "# Splitting into training & test subsets\n",
        "from sklearn.model_selection import train_test_split\n",
        "X_train, X_test, y_train, yData = train_test_split(commentsData, yData, test_size = 0.4,\n",
        "                                                    random_state = 0, shuffle=False)\n",
        "\n",
        "# Training the classifier & predicting on test data\n",
        "from sklearn.naive_bayes import MultinomialNB\n",
        "classifier = MultinomialNB()\n",
        "classifier.fit(X_train, y_train)\n",
        "\n",
        "#  generate yhat\n",
        "y_pred = classifier.predict(X_test)\n",
        "\n",
        "# Classification metrics\n",
        "from sklearn.metrics import accuracy_score, classification_report\n",
        "classification_report = classification_report(yData, y_pred)\n",
        "\n",
        "print('\\n Accuracy: ', accuracy_score(yData, y_pred))\n",
        "print('\\nClassification Report')\n",
        "print('======================================================')\n",
        "print('\\n', classification_report)\n",
        "print()\n",
        "\n",
        "\n",
        "\n",
        "cm = metrics.confusion_matrix(yData, y_pred)\n",
        "fig, ax = plt.subplots()\n",
        "sns.heatmap(cm, annot=True, fmt='d', ax=ax, cmap=plt.cm.Blues, \n",
        "            cbar=False)\n",
        "ax.set(xlabel=\"Pred\", ylabel=\"True\", xticklabels=label_list, \n",
        "       yticklabels=label_list, title=\"Confusion matrix\")\n",
        "plt.yticks(rotation=0)"
      ],
      "metadata": {
        "colab": {
          "base_uri": "https://localhost:8080/",
          "height": 793
        },
        "id": "qs7j6hatiJt-",
        "outputId": "ba737188-6af6-4026-d3c4-6d7255d40177"
      },
      "execution_count": 13,
      "outputs": [
        {
          "output_type": "stream",
          "name": "stdout",
          "text": [
            "\n",
            " Accuracy:  0.42727272727272725\n",
            "\n",
            "Classification Report\n",
            "======================================================\n",
            "\n",
            "               precision    recall  f1-score   support\n",
            "\n",
            "           0       0.00      0.00      0.00        48\n",
            "           1       0.43      0.97      0.59        39\n",
            "           2       0.43      0.39      0.41        23\n",
            "\n",
            "    accuracy                           0.43       110\n",
            "   macro avg       0.29      0.46      0.33       110\n",
            "weighted avg       0.24      0.43      0.30       110\n",
            "\n",
            "\n"
          ]
        },
        {
          "output_type": "stream",
          "name": "stderr",
          "text": [
            "/usr/local/lib/python3.7/dist-packages/sklearn/utils/deprecation.py:87: FutureWarning: Function get_feature_names is deprecated; get_feature_names is deprecated in 1.0 and will be removed in 1.2. Please use get_feature_names_out instead.\n",
            "  warnings.warn(msg, category=FutureWarning)\n",
            "/usr/local/lib/python3.7/dist-packages/sklearn/metrics/_classification.py:1318: UndefinedMetricWarning: Precision and F-score are ill-defined and being set to 0.0 in labels with no predicted samples. Use `zero_division` parameter to control this behavior.\n",
            "  _warn_prf(average, modifier, msg_start, len(result))\n",
            "/usr/local/lib/python3.7/dist-packages/sklearn/metrics/_classification.py:1318: UndefinedMetricWarning: Precision and F-score are ill-defined and being set to 0.0 in labels with no predicted samples. Use `zero_division` parameter to control this behavior.\n",
            "  _warn_prf(average, modifier, msg_start, len(result))\n",
            "/usr/local/lib/python3.7/dist-packages/sklearn/metrics/_classification.py:1318: UndefinedMetricWarning: Precision and F-score are ill-defined and being set to 0.0 in labels with no predicted samples. Use `zero_division` parameter to control this behavior.\n",
            "  _warn_prf(average, modifier, msg_start, len(result))\n"
          ]
        },
        {
          "output_type": "execute_result",
          "data": {
            "text/plain": [
              "(array([0.5, 1.5, 2.5]), <a list of 3 Text major ticklabel objects>)"
            ]
          },
          "metadata": {},
          "execution_count": 13
        },
        {
          "output_type": "display_data",
          "data": {
            "text/plain": [
              "<Figure size 432x288 with 1 Axes>"
            ],
            "image/png": "[encoded data removed]"
          },
          "metadata": {
            "needs_background": "light"
          }
        }
      ]
    }
  ],
  "metadata": {
    "kernelspec": {
      "name": "python3",
      "display_name": "Python 3",
      "language": "python"
    },
    "language_info": {
      "name": "python",
      "version": "3.7.6",
      "mimetype": "text/x-python",
      "codemirror_mode": {
        "name": "ipython",
        "version": 3
      },
      "pygments_lexer": "ipython3",
      "nbconvert_exporter": "python",
      "file_extension": ".py"
    },
    "colab": {
      "name": "mehrzad_ahmadian_tfidf.ipynb",
      "provenance": [],
      "collapsed_sections": []
    },
    "gpuClass": "standard"
  },
  "nbformat": 4,
  "nbformat_minor": 0
}