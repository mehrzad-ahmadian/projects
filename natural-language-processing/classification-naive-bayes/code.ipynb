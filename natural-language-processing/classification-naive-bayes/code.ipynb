{
  "nbformat": 4,
  "nbformat_minor": 0,
  "metadata": {
    "colab": {
      "provenance": []
    },
    "kernelspec": {
      "name": "python3",
      "display_name": "Python 3"
    },
    "language_info": {
      "name": "python"
    }
  },
  "cells": [
    {
      "cell_type": "code",
      "execution_count": 1,
      "metadata": {
        "id": "VOSaoAnq31uV"
      },
      "outputs": [],
      "source": [
        "import numpy as np\n",
        "import pandas as pd\n",
        "import re\n",
        "import string\n",
        "import math\n",
        "import nltk\n",
        "from nltk.corpus import stopwords\n",
        "from sklearn.feature_extraction.text import CountVectorizer\n",
        "from sklearn.naive_bayes import GaussianNB\n",
        "from nltk.stem import WordNetLemmatizer\n",
        "\n",
        "\n",
        "dataFile = 'data/spam.csv'\n",
        "trainRatio = 80\n",
        "\n",
        "data = pd.read_csv(dataFile, usecols=['v1','v2'], encoding='ISO-8859-1')\n",
        "data.rename(columns={'v1':'label'}, inplace=True)\n",
        "data.rename(columns={'v2':'text'}, inplace=True)"
      ]
    },
    {
      "cell_type": "code",
      "source": [
        "# text preprocessing\n",
        "def preprocess(data):\n",
        "\n",
        "\n",
        "    # replace email addresses with emailaddress\n",
        "    data['text'] = data['text'].apply(lambda x: re.sub('([A-Za-z0-9._%+-]+@[A-Za-z0-9.-]+\\.[A-Za-z]{2,})', 'emailaddress',x))\n",
        "\n",
        "    # replace website links with websiteaddress\n",
        "    data['text'] = data['text'].apply(lambda x:re.sub('http[s]?://(?:[a-zA-Z]|[0-9]|[$-_@.&+]|[!*\\(\\),]|(?:%[0-9a-fA-F][0-9a-fA-F]))+', 'websiteaddress', x))\n",
        "\n",
        "    # expand contractions\n",
        "    data['text'] = data['text'].apply(lambda x: re.sub(r\"i'm\", \"i am\", x))\n",
        "    data['text'] = data['text'].apply(lambda x: re.sub(r\"he's\", \"he is\", x))\n",
        "    data['text'] = data['text'].apply(lambda x: re.sub(r\"she's\", \"she is\", x))\n",
        "    data['text'] = data['text'].apply(lambda x: re.sub(r\"that's\", \"that is\", x))\n",
        "    data['text'] = data['text'].apply(lambda x: re.sub(r\"what's\", \"what is\", x))\n",
        "    data['text'] = data['text'].apply(lambda x: re.sub(r\"where's\", \"where is\", x))\n",
        "    data['text'] = data['text'].apply(lambda x: re.sub(r\"\\'ll\", \" will\", x))\n",
        "    data['text'] = data['text'].apply(lambda x: re.sub(r\"\\'ve\", \" have\", x))\n",
        "    data['text'] = data['text'].apply(lambda x: re.sub(r\"\\'re\", \" are\", x))\n",
        "    data['text'] = data['text'].apply(lambda x: re.sub(r\"\\'d\", \" would\", x))\n",
        "    data['text'] = data['text'].apply(lambda x: re.sub(r\"\\'ve\", \" have\", x))\n",
        "    data['text'] = data['text'].apply(lambda x: re.sub(r\"won't\", \"will not\", x))\n",
        "    data['text'] = data['text'].apply(lambda x: re.sub(r\"don't\", \"do not\", x))\n",
        "    data['text'] = data['text'].apply(lambda x: re.sub(r\"did't\", \"did not\", x))\n",
        "    data['text'] = data['text'].apply(lambda x: re.sub(r\"can't\", \"can not\", x))\n",
        "    data['text'] = data['text'].apply(lambda x: re.sub(r\"it's\", \"it is\", x))\n",
        "    data['text'] = data['text'].apply(lambda x: re.sub(r\"couldn't\", \"could not\", x))\n",
        "    data['text'] = data['text'].apply(lambda x: re.sub(r\"have't\", \"have not\", x))\n",
        "\n",
        "    # remove punctuations except !$+():-;&\n",
        "    data['text'] = data['text'].apply(lambda x: re.sub(r\"[,.\\\"@#%^*{}?/`'~<>=]\", \"\", x))\n",
        "\n",
        "    # remove stop words\n",
        "    stop_words = set(stopwords.words('english'))\n",
        "    stop_words.discard(\"not\")\n",
        "\n",
        "    def remove_stopwords(text):\n",
        "        return \" \".join([word for word in str(text).split() if word not in stop_words])\n",
        "    data['text'] = data['text'].apply(lambda x: remove_stopwords(x))\n",
        "\n",
        "\n",
        "    return data\n",
        "\n",
        "\n",
        "\n",
        "# feature extraction\n",
        "# 0  capital words frequency\n",
        "# 1  ! frequency\n",
        "# 2  £ frequency\n",
        "# 3  + frequency\n",
        "# 4  slimies frequency like :) :( :-) :-( ;-) ;-( :-D\n",
        "# 5  prize frequency\n",
        "# 6  credit frequency\n",
        "# 7  urgent frequency\n",
        "# 8  free frequency\n",
        "# 9  auction frequency\n",
        "# 10 guaranteed frequency\n",
        "# 11 contains numbers\n",
        "# 12 contains numbers with 00\n",
        "# 13 contains weblinks\n",
        "# 14 contains email addresses\n",
        "# 15 amp frequency\n",
        "# 16 &gt; and &lt; frequency\n",
        "# 17 lol frequency\n",
        "# 18 alphanumeric words frequency\n",
        "\n",
        "def extractFeatures(data):\n",
        "    features = np.zeros((len(data['text']), 19))\n",
        "\n",
        "    texts = data['text']\n",
        "\n",
        "    # 0\n",
        "    for i, text in enumerate(texts):\n",
        "        features[i][0] = len(re.findall(r\"(\\b(?:[A-Z]+[a-z]?[A-Z]*|[A-Z]*[a-z]?[A-Z]+)\\b(?:\\s+(?:[A-Z]+[a-z]?[A-Z]*|[A-Z]*[a-z]?[A-Z]+)\\b)*)\", text))\n",
        "\n",
        "    data = preprocess(data)\n",
        "\n",
        "    texts = data['text']\n",
        "\n",
        "    for i, text in enumerate(texts):\n",
        "        features[i][1] = text.count('!')\n",
        "        features[i][2] = text.count('£')\n",
        "\n",
        "        features[i][3] = text.count('+')\n",
        "\n",
        "        features[i][4] += text.count(':)')\n",
        "        features[i][4] += text.count(':(')\n",
        "        features[i][4] += text.count(':-)')\n",
        "        features[i][4] += text.count(':-(')\n",
        "        features[i][4] += text.count(';-)')\n",
        "        features[i][4] += text.count(';-(')\n",
        "        features[i][4] += text.count(':-D')\n",
        "\n",
        "        features[i][5] = text.count('prize')\n",
        "        features[i][6] = text.count('credit')\n",
        "        features[i][7] = text.count('urgent')\n",
        "        features[i][8] = text.count('free')\n",
        "        features[i][9] = text.count('auction')\n",
        "        features[i][10] = text.count('guaranteed')\n",
        "\n",
        "        features[i][11] = len(re.findall(r'\\d', text))\n",
        "        features[i][12] = 1 if text.count('00') > 0 else 0\n",
        "\n",
        "        features[i][13] = 1 if text.count('websiteaddress') or text.count('http') > 0 else 0\n",
        "        features[i][14] = 1 if text.count('emailaddress') > 0 else 0\n",
        "\n",
        "        features[i][15] = text.count('amp')\n",
        "\n",
        "        features[i][16] = text.count('&gt;')\n",
        "        features[i][17] += text.count('&lt;')\n",
        "\n",
        "        features[i][18] = len(re.findall(r'(?:\\d+[a-zA-Z]+|[a-zA-Z]+\\d+)', text))\n",
        "\n",
        "    return features"
      ],
      "metadata": {
        "id": "4T5e1jtL4FuD"
      },
      "execution_count": 2,
      "outputs": []
    },
    {
      "cell_type": "code",
      "source": [
        "nltk.download('stopwords')\n",
        "features = extractFeatures(data)\n",
        "\n",
        "\n",
        "x = features\n",
        "y = data['label'].values"
      ],
      "metadata": {
        "colab": {
          "base_uri": "https://localhost:8080/"
        },
        "id": "0EHvzOJk4K24",
        "outputId": "5ab9f06b-fbc3-4ac3-d3ee-8cbf37909e15"
      },
      "execution_count": 3,
      "outputs": [
        {
          "output_type": "stream",
          "name": "stderr",
          "text": [
            "[nltk_data] Downloading package stopwords to /root/nltk_data...\n",
            "[nltk_data]   Package stopwords is already up-to-date!\n"
          ]
        }
      ]
    },
    {
      "cell_type": "code",
      "source": [
        "dataCount = len(x)\n",
        "trainCount = math.floor(dataCount * trainRatio / 100)\n",
        "xTrain, yTrain = x[0:trainCount], y[0:trainCount]\n",
        "xTest, yTest = x[trainCount:], y[trainCount:]\n",
        "\n",
        "model = GaussianNB()\n",
        "model.fit(xTrain, yTrain)"
      ],
      "metadata": {
        "colab": {
          "base_uri": "https://localhost:8080/",
          "height": 75
        },
        "id": "J9mmkWNB4TTe",
        "outputId": "c765e551-979c-42e8-f9c4-ff9af41da2ba"
      },
      "execution_count": 4,
      "outputs": [
        {
          "output_type": "execute_result",
          "data": {
            "text/plain": [
              "GaussianNB()"
            ],
            "text/html": [
              "<style>#sk-container-id-1 {color: black;background-color: white;}#sk-container-id-1 pre{padding: 0;}#sk-container-id-1 div.sk-toggleable {background-color: white;}#sk-container-id-1 label.sk-toggleable__label {cursor: pointer;display: block;width: 100%;margin-bottom: 0;padding: 0.3em;box-sizing: border-box;text-align: center;}#sk-container-id-1 label.sk-toggleable__label-arrow:before {content: \"▸\";float: left;margin-right: 0.25em;color: #696969;}#sk-container-id-1 label.sk-toggleable__label-arrow:hover:before {color: black;}#sk-container-id-1 div.sk-estimator:hover label.sk-toggleable__label-arrow:before {color: black;}#sk-container-id-1 div.sk-toggleable__content {max-height: 0;max-width: 0;overflow: hidden;text-align: left;background-color: #f0f8ff;}#sk-container-id-1 div.sk-toggleable__content pre {margin: 0.2em;color: black;border-radius: 0.25em;background-color: #f0f8ff;}#sk-container-id-1 input.sk-toggleable__control:checked~div.sk-toggleable__content {max-height: 200px;max-width: 100%;overflow: auto;}#sk-container-id-1 input.sk-toggleable__control:checked~label.sk-toggleable__label-arrow:before {content: \"▾\";}#sk-container-id-1 div.sk-estimator input.sk-toggleable__control:checked~label.sk-toggleable__label {background-color: #d4ebff;}#sk-container-id-1 div.sk-label input.sk-toggleable__control:checked~label.sk-toggleable__label {background-color: #d4ebff;}#sk-container-id-1 input.sk-hidden--visually {border: 0;clip: rect(1px 1px 1px 1px);clip: rect(1px, 1px, 1px, 1px);height: 1px;margin: -1px;overflow: hidden;padding: 0;position: absolute;width: 1px;}#sk-container-id-1 div.sk-estimator {font-family: monospace;background-color: #f0f8ff;border: 1px dotted black;border-radius: 0.25em;box-sizing: border-box;margin-bottom: 0.5em;}#sk-container-id-1 div.sk-estimator:hover {background-color: #d4ebff;}#sk-container-id-1 div.sk-parallel-item::after {content: \"\";width: 100%;border-bottom: 1px solid gray;flex-grow: 1;}#sk-container-id-1 div.sk-label:hover label.sk-toggleable__label {background-color: #d4ebff;}#sk-container-id-1 div.sk-serial::before {content: \"\";position: absolute;border-left: 1px solid gray;box-sizing: border-box;top: 0;bottom: 0;left: 50%;z-index: 0;}#sk-container-id-1 div.sk-serial {display: flex;flex-direction: column;align-items: center;background-color: white;padding-right: 0.2em;padding-left: 0.2em;position: relative;}#sk-container-id-1 div.sk-item {position: relative;z-index: 1;}#sk-container-id-1 div.sk-parallel {display: flex;align-items: stretch;justify-content: center;background-color: white;position: relative;}#sk-container-id-1 div.sk-item::before, #sk-container-id-1 div.sk-parallel-item::before {content: \"\";position: absolute;border-left: 1px solid gray;box-sizing: border-box;top: 0;bottom: 0;left: 50%;z-index: -1;}#sk-container-id-1 div.sk-parallel-item {display: flex;flex-direction: column;z-index: 1;position: relative;background-color: white;}#sk-container-id-1 div.sk-parallel-item:first-child::after {align-self: flex-end;width: 50%;}#sk-container-id-1 div.sk-parallel-item:last-child::after {align-self: flex-start;width: 50%;}#sk-container-id-1 div.sk-parallel-item:only-child::after {width: 0;}#sk-container-id-1 div.sk-dashed-wrapped {border: 1px dashed gray;margin: 0 0.4em 0.5em 0.4em;box-sizing: border-box;padding-bottom: 0.4em;background-color: white;}#sk-container-id-1 div.sk-label label {font-family: monospace;font-weight: bold;display: inline-block;line-height: 1.2em;}#sk-container-id-1 div.sk-label-container {text-align: center;}#sk-container-id-1 div.sk-container {/* jupyter's `normalize.less` sets `[hidden] { display: none; }` but bootstrap.min.css set `[hidden] { display: none !important; }` so we also need the `!important` here to be able to override the default hidden behavior on the sphinx rendered scikit-learn.org. See: https://github.com/scikit-learn/scikit-learn/issues/21755 */display: inline-block !important;position: relative;}#sk-container-id-1 div.sk-text-repr-fallback {display: none;}</style><div id=\"sk-container-id-1\" class=\"sk-top-container\"><div class=\"sk-text-repr-fallback\"><pre>GaussianNB()</pre><b>In a Jupyter environment, please rerun this cell to show the HTML representation or trust the notebook. <br />On GitHub, the HTML representation is unable to render, please try loading this page with nbviewer.org.</b></div><div class=\"sk-container\" hidden><div class=\"sk-item\"><div class=\"sk-estimator sk-toggleable\"><input class=\"sk-toggleable__control sk-hidden--visually\" id=\"sk-estimator-id-1\" type=\"checkbox\" checked><label for=\"sk-estimator-id-1\" class=\"sk-toggleable__label sk-toggleable__label-arrow\">GaussianNB</label><div class=\"sk-toggleable__content\"><pre>GaussianNB()</pre></div></div></div></div></div>"
            ]
          },
          "metadata": {},
          "execution_count": 4
        }
      ]
    },
    {
      "cell_type": "code",
      "source": [
        "tp, fp, tn, fn = 0, 0, 0, 0\n",
        "\n",
        "for i, testSample in enumerate(xTest):\n",
        "    yPredicted = model.predict([testSample])\n",
        "\n",
        "    if yTest[i] == 'ham':\n",
        "        if yPredicted == yTest[i]:\n",
        "            tp += 1\n",
        "        else:\n",
        "            fn += 1\n",
        "    else:\n",
        "        if yPredicted == yTest[i]:\n",
        "            tn += 1\n",
        "        else:\n",
        "            fp += 1\n",
        "\n",
        "\n",
        "accuracy = (tp + tn) / (tp + tn + fp + fn)\n",
        "recall = (tp) / (tp + fn)\n",
        "precision = (tp) / (tp + fp)\n",
        "f1 = (2 * tp) / ((2 * tp) + (fp + fn))\n",
        "\n",
        "\n",
        "print('Total Samples: ' + str(len(xTest)))\n",
        "print('TP: ' + str(tp))\n",
        "print('TN: ' + str(tn))\n",
        "print('FP: ' + str(fp))\n",
        "print('FN: ' + str(fn))\n",
        "print('Accuracy: ' + str(accuracy))\n",
        "print('Recall: ' + str(recall))\n",
        "print('Precision: ' + str(precision))\n",
        "print('F1: ' + str(f1))\n"
      ],
      "metadata": {
        "colab": {
          "base_uri": "https://localhost:8080/"
        },
        "id": "TXzvALwG4XZv",
        "outputId": "cc35e4a4-835d-4bab-ce65-7c797fb18f9e"
      },
      "execution_count": 5,
      "outputs": [
        {
          "output_type": "stream",
          "name": "stdout",
          "text": [
            "Total Samples: 1115\n",
            "TP: 949\n",
            "TN: 127\n",
            "FP: 18\n",
            "FN: 21\n",
            "Accuracy: 0.9650224215246637\n",
            "Recall: 0.9783505154639175\n",
            "Precision: 0.9813857290589452\n",
            "F1: 0.9798657718120806\n"
          ]
        }
      ]
    }
  ]
}