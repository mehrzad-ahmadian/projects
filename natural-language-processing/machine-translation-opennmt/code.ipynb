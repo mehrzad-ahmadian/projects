{
  "nbformat": 4,
  "nbformat_minor": 0,
  "metadata": {
    "colab": {
      "provenance": []
    },
    "kernelspec": {
      "name": "python3",
      "display_name": "Python 3"
    },
    "language_info": {
      "name": "python"
    },
    "accelerator": "GPU"
  },
  "cells": [
    {
      "cell_type": "code",
      "source": [
        "# get OpenNMT\n",
        "from google.colab import drive\n",
        "drive.mount('/content/gdrive')\n",
        "!ls\n",
        "!git clone -b v1.2.0 https://github.com/OpenNMT/OpenNMT-py.git\n",
        "!git pull"
      ],
      "metadata": {
        "colab": {
          "base_uri": "https://localhost:8080/"
        },
        "id": "fWHujAQbcWdb",
        "outputId": "c0423e67-bbc2-4e36-bf42-0330fcc9c174"
      },
      "execution_count": 1,
      "outputs": [
        {
          "output_type": "stream",
          "name": "stdout",
          "text": [
            "Mounted at /content/gdrive\n",
            "data.zip  gdrive  preprocessed_data.zip  sample_data\n",
            "Cloning into 'OpenNMT-py'...\n",
            "remote: Enumerating objects: 21369, done.\u001b[K\n",
            "remote: Counting objects: 100% (2217/2217), done.\u001b[K\n",
            "remote: Compressing objects: 100% (1015/1015), done.\u001b[K\n",
            "remote: Total 21369 (delta 1327), reused 1933 (delta 1162), pack-reused 19152\u001b[K\n",
            "Receiving objects: 100% (21369/21369), 309.30 MiB | 31.72 MiB/s, done.\n",
            "Resolving deltas: 100% (15243/15243), done.\n",
            "fatal: not a git repository (or any of the parent directories): .git\n"
          ]
        }
      ]
    },
    {
      "cell_type": "code",
      "source": [
        "!pip install -r ./OpenNMT-py/floyd_requirements.txt"
      ],
      "metadata": {
        "colab": {
          "base_uri": "https://localhost:8080/"
        },
        "id": "eAEh42Sm1K0E",
        "outputId": "628ecf66-3246-408d-b845-ef5e76ee6a1e"
      },
      "execution_count": 2,
      "outputs": [
        {
          "output_type": "stream",
          "name": "stdout",
          "text": [
            "Collecting git+https://github.com/pytorch/text (from -r ./OpenNMT-py/floyd_requirements.txt (line 1))\n",
            "  Cloning https://github.com/pytorch/text to /tmp/pip-req-build-vmw46hv4\n",
            "  Running command git clone --filter=blob:none --quiet https://github.com/pytorch/text /tmp/pip-req-build-vmw46hv4\n",
            "  Resolved https://github.com/pytorch/text to commit c0d0685a8a6e4c5a0f05629330c3a2d1bc5596d0\n",
            "  Running command git submodule update --init --recursive -q\n",
            "  Installing build dependencies ... \u001b[?25l\u001b[?25hdone\n",
            "  \u001b[1;31merror\u001b[0m: \u001b[1msubprocess-exited-with-error\u001b[0m\n",
            "  \n",
            "  \u001b[31m×\u001b[0m \u001b[32mGetting requirements to build wheel\u001b[0m did not run successfully.\n",
            "  \u001b[31m│\u001b[0m exit code: \u001b[1;36m1\u001b[0m\n",
            "  \u001b[31m╰─>\u001b[0m See above for output.\n",
            "  \n",
            "  \u001b[1;35mnote\u001b[0m: This error originates from a subprocess, and is likely not a problem with pip.\n",
            "  Getting requirements to build wheel ... \u001b[?25l\u001b[?25herror\n",
            "\u001b[1;31merror\u001b[0m: \u001b[1msubprocess-exited-with-error\u001b[0m\n",
            "\n",
            "\u001b[31m×\u001b[0m \u001b[32mGetting requirements to build wheel\u001b[0m did not run successfully.\n",
            "\u001b[31m│\u001b[0m exit code: \u001b[1;36m1\u001b[0m\n",
            "\u001b[31m╰─>\u001b[0m See above for output.\n",
            "\n",
            "\u001b[1;35mnote\u001b[0m: This error originates from a subprocess, and is likely not a problem with pip.\n"
          ]
        }
      ]
    },
    {
      "cell_type": "code",
      "source": [
        "!unzip data.zip\n",
        "!unzip preprocessed_data.zip"
      ],
      "metadata": {
        "colab": {
          "base_uri": "https://localhost:8080/"
        },
        "id": "iLGwEHra2SG-",
        "outputId": "91957a50-d3ca-483c-9bd8-a418a0872e2b"
      },
      "execution_count": 3,
      "outputs": [
        {
          "output_type": "stream",
          "name": "stdout",
          "text": [
            "Archive:  data.zip\n",
            "   creating: data/\n",
            "  inflating: __MACOSX/._data         \n",
            "  inflating: data/train.fa           \n",
            "  inflating: __MACOSX/data/._train.fa  \n",
            "  inflating: data/train.en           \n",
            "  inflating: __MACOSX/data/._train.en  \n",
            "  inflating: data/test.en            \n",
            "  inflating: __MACOSX/data/._test.en  \n",
            "  inflating: data/test.fa            \n",
            "  inflating: __MACOSX/data/._test.fa  \n",
            "  inflating: data/valid.en           \n",
            "  inflating: __MACOSX/data/._valid.en  \n",
            "  inflating: data/valid.fa           \n",
            "  inflating: __MACOSX/data/._valid.fa  \n",
            "Archive:  preprocessed_data.zip\n",
            "   creating: preprocessed_data/\n",
            "  inflating: __MACOSX/._preprocessed_data  \n",
            "  inflating: preprocessed_data/train.fa  \n",
            "  inflating: __MACOSX/preprocessed_data/._train.fa  \n",
            "  inflating: preprocessed_data/train.en  \n",
            "  inflating: __MACOSX/preprocessed_data/._train.en  \n",
            "  inflating: preprocessed_data/test.en  \n",
            "  inflating: __MACOSX/preprocessed_data/._test.en  \n",
            "  inflating: preprocessed_data/test.fa  \n",
            "  inflating: __MACOSX/preprocessed_data/._test.fa  \n",
            "  inflating: preprocessed_data/valid.en  \n",
            "  inflating: __MACOSX/preprocessed_data/._valid.en  \n",
            "  inflating: preprocessed_data/valid.fa  \n",
            "  inflating: __MACOSX/preprocessed_data/._valid.fa  \n"
          ]
        }
      ]
    },
    {
      "cell_type": "code",
      "source": [
        "# BPE\n",
        "!mkdir BPE\n",
        "!python OpenNMT-py/tools/learn_bpe.py -i preprocessed_data/train.en -o BPE/src.code -s 10000\n",
        "!python OpenNMT-py/tools/learn_bpe.py -i preprocessed_data/train.fa -o BPE/tgt.code -s 10000\n",
        "!python OpenNMT-py/tools/apply_bpe.py -c BPE/src.code -i preprocessed_data/train.en -o BPE/train-bpe.en\n",
        "!python OpenNMT-py/tools/apply_bpe.py -c BPE/src.code -i preprocessed_data/valid.en -o BPE/valid-bpe.en\n",
        "!python OpenNMT-py/tools/apply_bpe.py -c BPE/src.code -i preprocessed_data/test.en -o BPE/test-bpe.en.txt\n",
        "!python OpenNMT-py/tools/apply_bpe.py -c BPE/tgt.code -i preprocessed_data/train.fa -o BPE/train-bpe.fa\n",
        "!python OpenNMT-py/tools/apply_bpe.py -c BPE/tgt.code -i preprocessed_data/valid.fa -o BPE/valid-bpe.fa\n",
        "!python OpenNMT-py/tools/apply_bpe.py -c BPE/tgt.code -i preprocessed_data/test.fa -o BPE/test-bpe.fa"
      ],
      "metadata": {
        "id": "cgPXAPGhDYPq"
      },
      "execution_count": 4,
      "outputs": []
    },
    {
      "cell_type": "code",
      "source": [
        "# Preprocess\n",
        "!pip install torchtext==0.4\n",
        "!pip install configargparse\n",
        "!mkdir translate"
      ],
      "metadata": {
        "id": "LsCQTxEL5MhJ"
      },
      "execution_count": null,
      "outputs": []
    },
    {
      "cell_type": "code",
      "source": [
        "!python OpenNMT-py/preprocess.py -train_src BPE/train-bpe.en -train_tgt BPE/train-bpe.fa -valid_src BPE/valid-bpe.en -valid_tgt BPE/valid-bpe.fa -save_data translate/data -overwrite"
      ],
      "metadata": {
        "id": "eJ8eQLup5ld8"
      },
      "execution_count": null,
      "outputs": []
    },
    {
      "cell_type": "markdown",
      "source": [
        "### train"
      ],
      "metadata": {
        "id": "Af3f3XeAN6iI"
      }
    },
    {
      "cell_type": "code",
      "source": [
        "# Train\n",
        "!python OpenNMT-py/train.py -data translate/data -save_model translate/model -train_steps 50000 -save_checkpoint_steps 5000 -valid_steps 1000 -world_size 1 -gpu_rank 0"
      ],
      "metadata": {
        "id": "hiN0rRpwN8BM"
      },
      "execution_count": null,
      "outputs": []
    },
    {
      "cell_type": "code",
      "source": [
        "# Test\n",
        "!mkdir pred\n",
        "!mkdir pred/test\n",
        "!mkdir pred/validation"
      ],
      "metadata": {
        "id": "IcmPKe2VQSvU"
      },
      "execution_count": null,
      "outputs": []
    },
    {
      "cell_type": "code",
      "source": [
        "from tqdm import tqdm\n",
        "\n",
        "bleus = []\n",
        "for i in tqdm(range(5000,50001,5000)) :\n",
        "  c1 = !python OpenNMT-py/translate.py -model translate/model_step_{i}.pt -src data/valid.en -output pred/validation/pred_valid_{i}.txt -replace_unk\n",
        "  c2 = !sed -i \"s/@@ //g\"  pred/validation/pred_valid_{i}.txt\n",
        "  c3 = !perl OpenNMT-py/tools/multi-bleu.perl data/valid.fa < pred/validation/pred_valid_{i}.txt\n",
        "  bleus.append(c3)"
      ],
      "metadata": {
        "id": "LMhdSRbUEGIc"
      },
      "execution_count": null,
      "outputs": []
    },
    {
      "cell_type": "code",
      "source": [
        "bleus"
      ],
      "metadata": {
        "id": "N1TlYRVRMCN4"
      },
      "execution_count": null,
      "outputs": []
    },
    {
      "cell_type": "code",
      "source": [
        "!python OpenNMT-py/translate.py -model translate/model_step_50000.pt -src data/test.en -output pred/test/pred_test.txt -replace_unk -verbose"
      ],
      "metadata": {
        "id": "8Sv0m4oGJwjv"
      },
      "execution_count": null,
      "outputs": []
    },
    {
      "cell_type": "code",
      "source": [
        "!sed -i \"s/@@ //g\"  pred/test/pred_test.txt"
      ],
      "metadata": {
        "id": "Mjs6Jap6JxHw"
      },
      "execution_count": null,
      "outputs": []
    },
    {
      "cell_type": "code",
      "source": [
        "!perl OpenNMT-py/tools/multi-bleu.perl data/test.fa < pred/test/pred_test.txt"
      ],
      "metadata": {
        "id": "mrJ1SaRdJydo"
      },
      "execution_count": null,
      "outputs": []
    }
  ]
}