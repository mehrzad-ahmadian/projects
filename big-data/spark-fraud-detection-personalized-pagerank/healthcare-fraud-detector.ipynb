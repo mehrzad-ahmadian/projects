{
 "cells": [
  {
   "cell_type": "code",
   "execution_count": 1,
   "metadata": {},
   "outputs": [],
   "source": [
    "from pyspark import SparkContext\n",
    "context = SparkContext()\n",
    "context.addPyFile('graphframes-0.8.1-spark3.0-s_2.12.jar')\n",
    "\n",
    "from pyspark.sql.session import SparkSession\n",
    "spark = SparkSession(context)\n",
    "\n",
    "from pyspark.sql.types import *\n",
    "from graphframes import *\n",
    "spark = SparkSession.builder.appName(\"mehrzadHealthcareFraudDetector\").getOrCreate()"
   ]
  },
  {
   "cell_type": "code",
   "execution_count": 2,
   "metadata": {},
   "outputs": [],
   "source": [
    "path =\"medicare/\"\n",
    "\n",
    "# read data file\n",
    "file = spark.read.csv(path+'Medicare_Provider_Util_Payment_PUF_CY2012.csv',inferSchema=True,header=True)"
   ]
  },
  {
   "cell_type": "code",
   "execution_count": 3,
   "metadata": {},
   "outputs": [],
   "source": [
    "from pyspark.sql.functions import col\n",
    "rawData = file.select(\"NPI\", \"PROVIDER_TYPE\", \"HCPCS_CODE\").limit(50000)\n",
    "data = rawData.select([col(c).cast(\"string\") for c in rawData.columns])"
   ]
  },
  {
   "cell_type": "code",
   "execution_count": 4,
   "metadata": {},
   "outputs": [
    {
     "name": "stdout",
     "output_type": "stream",
     "text": [
      "root\n",
      " |-- NPI: string (nullable = true)\n",
      " |-- PROVIDER_TYPE: string (nullable = true)\n",
      " |-- HCPCS_CODE: string (nullable = true)\n",
      "\n"
     ]
    }
   ],
   "source": [
    "data.printSchema()"
   ]
  },
  {
   "cell_type": "code",
   "execution_count": 5,
   "metadata": {},
   "outputs": [
    {
     "data": {
      "text/plain": [
       "['Internal Medicine',\n",
       " 'Pathology',\n",
       " 'Anesthesiology',\n",
       " 'Physical Therapist',\n",
       " 'Family Practice',\n",
       " 'Obstetrics/Gynecology',\n",
       " 'Clinical Psychologist',\n",
       " 'General Surgery',\n",
       " 'Occupational therapist',\n",
       " 'Chiropractic',\n",
       " 'Nurse Practitioner',\n",
       " 'Physician Assistant',\n",
       " 'Cardiology',\n",
       " 'Dermatology',\n",
       " 'Mass Immunization Roster Biller',\n",
       " 'Physical Medicine and Rehabilitation',\n",
       " 'Radiation Oncology',\n",
       " 'Infectious Disease',\n",
       " 'Orthopedic Surgery',\n",
       " 'Endocrinology',\n",
       " 'Urology',\n",
       " 'Diagnostic Radiology',\n",
       " 'Neurology',\n",
       " 'Emergency Medicine',\n",
       " 'Nephrology',\n",
       " 'Licensed Clinical Social Worker',\n",
       " 'Psychiatry',\n",
       " 'Ambulatory Surgical Center',\n",
       " 'Pulmonary Disease',\n",
       " 'Otolaryngology',\n",
       " 'Plastic and Reconstructive Surgery',\n",
       " 'General Practice',\n",
       " 'Cardiac Surgery',\n",
       " 'Ambulance Service Supplier',\n",
       " 'Osteopathic Manipulative Medicine',\n",
       " 'Allergy/Immunology',\n",
       " 'CRNA',\n",
       " 'Ophthalmology',\n",
       " 'Audiologist (billing independently)',\n",
       " 'Geriatric Medicine',\n",
       " 'Gastroenterology',\n",
       " 'Thoracic Surgery',\n",
       " 'Pain Management',\n",
       " 'Podiatry',\n",
       " 'Hematology/Oncology',\n",
       " 'Optometry',\n",
       " 'All Other Suppliers',\n",
       " 'Neurosurgery',\n",
       " 'Clinical Laboratory',\n",
       " 'Critical Care (Intensivists)',\n",
       " 'Surgical Oncology',\n",
       " 'Anesthesiologist Assistants',\n",
       " 'Hand Surgery',\n",
       " 'Certified Clinical Nurse Specialist',\n",
       " 'Hospice and Palliative Care',\n",
       " 'Independent Diagnostic Testing Facility',\n",
       " 'Registered Dietician/Nutrition Professional',\n",
       " 'Rheumatology',\n",
       " 'Vascular Surgery',\n",
       " 'Oral Surgery (dentists only)',\n",
       " 'Pediatric Medicine',\n",
       " 'Interventional Pain Management',\n",
       " 'Maxillofacial Surgery',\n",
       " 'Medical Oncology',\n",
       " 'Portable X-ray',\n",
       " 'Nuclear Medicine',\n",
       " 'Mammographic Screening Center',\n",
       " 'Multispecialty Clinic/Group Practice',\n",
       " 'Cardiac Electrophysiology',\n",
       " 'Sports Medicine',\n",
       " 'Public Health Welfare Agency',\n",
       " 'Slide Preparation Facility',\n",
       " 'Interventional Radiology',\n",
       " 'Colorectal Surgery (formerly proctology)',\n",
       " 'Geriatric Psychiatry',\n",
       " 'Hematology',\n",
       " 'Certified Nurse Midwife',\n",
       " 'Addiction Medicine',\n",
       " 'Gynecological/Oncology',\n",
       " 'Neuropsychiatry']"
      ]
     },
     "execution_count": 5,
     "metadata": {},
     "output_type": "execute_result"
    }
   ],
   "source": [
    "specialities = data.select(\"PROVIDER_TYPE\").distinct()\n",
    "specialitiesList = [row['PROVIDER_TYPE'] for row in specialities.collect()]\n",
    "specialitiesList"
   ]
  },
  {
   "cell_type": "code",
   "execution_count": 6,
   "metadata": {},
   "outputs": [
    {
     "data": {
      "text/plain": [
       "4807"
      ]
     },
     "execution_count": 6,
     "metadata": {},
     "output_type": "execute_result"
    }
   ],
   "source": [
    "from pyspark.sql.functions import lit\n",
    "npis = data.selectExpr(\"NPI as id\", \"NPI as name\", \"PROVIDER_TYPE as speciality\").distinct()\n",
    "npis = npis.withColumn(\"type\", lit(\"npi\"))\n",
    "npis.count()"
   ]
  },
  {
   "cell_type": "code",
   "execution_count": 7,
   "metadata": {},
   "outputs": [
    {
     "data": {
      "text/plain": [
       "2086"
      ]
     },
     "execution_count": 7,
     "metadata": {},
     "output_type": "execute_result"
    }
   ],
   "source": [
    "hcpcsCodes = data.selectExpr(\"HCPCS_CODE as id\", \"HCPCS_CODE as name\").distinct()\n",
    "hcpcsCodes = hcpcsCodes.withColumn(\"speciality\", lit(\"\"))\n",
    "hcpcsCodes = hcpcsCodes.withColumn(\"type\", lit(\"hcpcs\"))\n",
    "hcpcsCodes.count()"
   ]
  },
  {
   "cell_type": "code",
   "execution_count": 8,
   "metadata": {},
   "outputs": [
    {
     "data": {
      "text/plain": [
       "6893"
      ]
     },
     "execution_count": 8,
     "metadata": {},
     "output_type": "execute_result"
    }
   ],
   "source": [
    "# Vertex DataFrame\n",
    "v = npis.union(hcpcsCodes)\n",
    "v.count()"
   ]
  },
  {
   "cell_type": "code",
   "execution_count": 9,
   "metadata": {},
   "outputs": [
    {
     "data": {
      "text/plain": [
       "[Row(id='1003000126', name='1003000126', speciality='Internal Medicine', type='npi'),\n",
       " Row(id='1003000134', name='1003000134', speciality='Pathology', type='npi'),\n",
       " Row(id='1003000142', name='1003000142', speciality='Anesthesiology', type='npi'),\n",
       " Row(id='1003000381', name='1003000381', speciality='Physical Therapist', type='npi'),\n",
       " Row(id='1003000407', name='1003000407', speciality='Family Practice', type='npi'),\n",
       " Row(id='1003000423', name='1003000423', speciality='Obstetrics/Gynecology', type='npi'),\n",
       " Row(id='1003000449', name='1003000449', speciality='Clinical Psychologist', type='npi'),\n",
       " Row(id='1003000480', name='1003000480', speciality='General Surgery', type='npi'),\n",
       " Row(id='1003000522', name='1003000522', speciality='Family Practice', type='npi'),\n",
       " Row(id='1003000530', name='1003000530', speciality='Internal Medicine', type='npi')]"
      ]
     },
     "execution_count": 9,
     "metadata": {},
     "output_type": "execute_result"
    }
   ],
   "source": [
    "v.head(10)"
   ]
  },
  {
   "cell_type": "code",
   "execution_count": 10,
   "metadata": {},
   "outputs": [
    {
     "data": {
      "text/plain": [
       "48351"
      ]
     },
     "execution_count": 10,
     "metadata": {},
     "output_type": "execute_result"
    }
   ],
   "source": [
    "# Edge DataFrame\n",
    "e = data.selectExpr(\"NPI as src\", \"HCPCS_CODE as dst\").distinct()\n",
    "e.count()"
   ]
  },
  {
   "cell_type": "code",
   "execution_count": 11,
   "metadata": {},
   "outputs": [
    {
     "data": {
      "text/plain": [
       "[Row(src='1003000126', dst='99222'),\n",
       " Row(src='1003000126', dst='99223'),\n",
       " Row(src='1003000126', dst='99231'),\n",
       " Row(src='1003000126', dst='99232'),\n",
       " Row(src='1003000126', dst='99233'),\n",
       " Row(src='1003000126', dst='99238'),\n",
       " Row(src='1003000126', dst='99239'),\n",
       " Row(src='1003000134', dst='88304'),\n",
       " Row(src='1003000134', dst='88305'),\n",
       " Row(src='1003000134', dst='88311')]"
      ]
     },
     "execution_count": 11,
     "metadata": {},
     "output_type": "execute_result"
    }
   ],
   "source": [
    "e.head(10)"
   ]
  },
  {
   "cell_type": "code",
   "execution_count": 12,
   "metadata": {},
   "outputs": [],
   "source": [
    "# Create a GraphFrame\n",
    "g = GraphFrame(v, e)"
   ]
  },
  {
   "cell_type": "code",
   "execution_count": 13,
   "metadata": {
    "scrolled": true
   },
   "outputs": [
    {
     "data": {
      "text/plain": [
       "[Row(id='1003000126', name='1003000126', speciality='Internal Medicine', type='npi'),\n",
       " Row(id='1003000134', name='1003000134', speciality='Pathology', type='npi'),\n",
       " Row(id='1003000142', name='1003000142', speciality='Anesthesiology', type='npi'),\n",
       " Row(id='1003000381', name='1003000381', speciality='Physical Therapist', type='npi'),\n",
       " Row(id='1003000407', name='1003000407', speciality='Family Practice', type='npi'),\n",
       " Row(id='1003000423', name='1003000423', speciality='Obstetrics/Gynecology', type='npi'),\n",
       " Row(id='1003000449', name='1003000449', speciality='Clinical Psychologist', type='npi'),\n",
       " Row(id='1003000480', name='1003000480', speciality='General Surgery', type='npi'),\n",
       " Row(id='1003000522', name='1003000522', speciality='Family Practice', type='npi'),\n",
       " Row(id='1003000530', name='1003000530', speciality='Internal Medicine', type='npi')]"
      ]
     },
     "execution_count": 13,
     "metadata": {},
     "output_type": "execute_result"
    }
   ],
   "source": [
    "# Display the vertex and edge DataFrames\n",
    "g.vertices.head(10)"
   ]
  },
  {
   "cell_type": "code",
   "execution_count": 14,
   "metadata": {},
   "outputs": [
    {
     "data": {
      "text/plain": [
       "[Row(src='1003000126', dst='99222'),\n",
       " Row(src='1003000126', dst='99223'),\n",
       " Row(src='1003000126', dst='99231'),\n",
       " Row(src='1003000126', dst='99232'),\n",
       " Row(src='1003000126', dst='99233'),\n",
       " Row(src='1003000126', dst='99238'),\n",
       " Row(src='1003000126', dst='99239'),\n",
       " Row(src='1003000134', dst='88304'),\n",
       " Row(src='1003000134', dst='88305'),\n",
       " Row(src='1003000134', dst='88311')]"
      ]
     },
     "execution_count": 14,
     "metadata": {},
     "output_type": "execute_result"
    }
   ],
   "source": [
    "# Display the vertex and edge DataFrames\n",
    "g.edges.head(10)"
   ]
  },
  {
   "cell_type": "code",
   "execution_count": null,
   "metadata": {},
   "outputs": [
    {
     "name": "stdout",
     "output_type": "stream",
     "text": [
      "Internal Medicine\n",
      "+----------+----------+--------+\n",
      "|        id|       NPI|pagerank|\n",
      "+----------+----------+--------+\n",
      "|1003848722|1003848722|     0.0|\n",
      "|1003047853|1003047853|     0.0|\n",
      "|1003171307|1003171307|     0.0|\n",
      "|1003824509|1003824509|     0.0|\n",
      "|1003013616|1003013616|     0.0|\n",
      "+----------+----------+--------+\n",
      "\n",
      "Pathology\n",
      "+----------+----------+--------+\n",
      "|        id|       NPI|pagerank|\n",
      "+----------+----------+--------+\n",
      "|1003848722|1003848722|     0.0|\n",
      "|1003047853|1003047853|     0.0|\n",
      "|1003171307|1003171307|     0.0|\n",
      "|1003824509|1003824509|     0.0|\n",
      "|1003013616|1003013616|     0.0|\n",
      "+----------+----------+--------+\n",
      "\n",
      "Anesthesiology\n",
      "+----------+----------+--------+\n",
      "|        id|       NPI|pagerank|\n",
      "+----------+----------+--------+\n",
      "|1003848722|1003848722|     0.0|\n",
      "|1003047853|1003047853|     0.0|\n",
      "|1003171307|1003171307|     0.0|\n",
      "|1003824509|1003824509|     0.0|\n",
      "|1003013616|1003013616|     0.0|\n",
      "+----------+----------+--------+\n",
      "\n",
      "Physical Therapist\n",
      "+----------+----------+--------+\n",
      "|        id|       NPI|pagerank|\n",
      "+----------+----------+--------+\n",
      "|1003848722|1003848722|     0.0|\n",
      "|1003047853|1003047853|     0.0|\n",
      "|1003824509|1003824509|     0.0|\n",
      "|1003013616|1003013616|     0.0|\n",
      "|1003831454|1003831454|     0.0|\n",
      "+----------+----------+--------+\n",
      "\n",
      "Family Practice\n",
      "+----------+----------+--------+\n",
      "|        id|       NPI|pagerank|\n",
      "+----------+----------+--------+\n",
      "|1003848722|1003848722|     0.0|\n",
      "|1003047853|1003047853|     0.0|\n",
      "|1003171307|1003171307|     0.0|\n",
      "|1003013616|1003013616|     0.0|\n",
      "|1003831454|1003831454|     0.0|\n",
      "+----------+----------+--------+\n",
      "\n",
      "Obstetrics/Gynecology\n",
      "+----------+----------+--------+\n",
      "|        id|       NPI|pagerank|\n",
      "+----------+----------+--------+\n",
      "|1003848722|1003848722|     0.0|\n",
      "|1003047853|1003047853|     0.0|\n",
      "|1003171307|1003171307|     0.0|\n",
      "|1003824509|1003824509|     0.0|\n",
      "|1003013616|1003013616|     0.0|\n",
      "+----------+----------+--------+\n",
      "\n",
      "Clinical Psychologist\n",
      "+----------+----------+--------+\n",
      "|        id|       NPI|pagerank|\n",
      "+----------+----------+--------+\n",
      "|1003848722|1003848722|     0.0|\n",
      "|1003047853|1003047853|     0.0|\n",
      "|1003171307|1003171307|     0.0|\n",
      "|1003824509|1003824509|     0.0|\n",
      "|1003013616|1003013616|     0.0|\n",
      "+----------+----------+--------+\n",
      "\n",
      "General Surgery\n",
      "+----------+----------+--------+\n",
      "|        id|       NPI|pagerank|\n",
      "+----------+----------+--------+\n",
      "|1003848722|1003848722|     0.0|\n",
      "|1003047853|1003047853|     0.0|\n",
      "|1003171307|1003171307|     0.0|\n",
      "|1003824509|1003824509|     0.0|\n",
      "|1003013616|1003013616|     0.0|\n",
      "+----------+----------+--------+\n",
      "\n",
      "Occupational therapist\n",
      "+----------+----------+--------+\n",
      "|        id|       NPI|pagerank|\n",
      "+----------+----------+--------+\n",
      "|1003848722|1003848722|     0.0|\n",
      "|1003047853|1003047853|     0.0|\n",
      "|1003171307|1003171307|     0.0|\n",
      "|1003824509|1003824509|     0.0|\n",
      "|1003013616|1003013616|     0.0|\n",
      "+----------+----------+--------+\n",
      "\n",
      "Chiropractic\n",
      "+----------+----------+--------+\n",
      "|        id|       NPI|pagerank|\n",
      "+----------+----------+--------+\n",
      "|1003848722|1003848722|     0.0|\n",
      "|1003047853|1003047853|     0.0|\n",
      "|1003171307|1003171307|     0.0|\n",
      "|1003824509|1003824509|     0.0|\n",
      "|1003013616|1003013616|     0.0|\n",
      "+----------+----------+--------+\n",
      "\n",
      "Nurse Practitioner\n"
     ]
    }
   ],
   "source": [
    "import statistics\n",
    "    \n",
    "for speciality in specialitiesList:\n",
    "    print(speciality)\n",
    "    sourceIds = data.where(data.PROVIDER_TYPE == speciality).selectExpr(\"NPI as id\").distinct()\n",
    "    sourceIdsList = [row['id'] for row in sourceIds.collect()]\n",
    "    # Run PageRank personalized for vertex [\"a\", \"b\", \"c\", \"d\"] in parallel\n",
    "    pageRankResults = g.parallelPersonalizedPageRank(resetProbability=0.15, sourceIds=sourceIdsList, maxIter=10)\n",
    "    results = pageRankResults.vertices.where(pageRankResults.vertices.type == \"npi\").where(pageRankResults.vertices.speciality != speciality).select(\"id\", \"name\", \"pageranks\")\n",
    "    finalResults = results.toPandas()\n",
    "    output = []\n",
    "    for index, row in finalResults.iterrows():\n",
    "        ranksList = list([float(x) for x in row['pageranks']])\n",
    "        output.append([row['id'], row['name'], statistics.mean(ranksList)])\n",
    "    finalDf = spark.createDataFrame(output, [\"id\", \"NPI\", \"pagerank\"])\n",
    "    topTenNpis = finalDf.sort(col(\"pagerank\").desc()).limit(5)\n",
    "    topTenNpis.show()\n",
    "    "
   ]
  }
 ],
 "metadata": {
  "kernelspec": {
   "display_name": "Python 3 (ipykernel)",
   "language": "python",
   "name": "python3"
  },
  "language_info": {
   "codemirror_mode": {
    "name": "ipython",
    "version": 3
   },
   "file_extension": ".py",
   "mimetype": "text/x-python",
   "name": "python",
   "nbconvert_exporter": "python",
   "pygments_lexer": "ipython3",
   "version": "3.11.5"
  }
 },
 "nbformat": 4,
 "nbformat_minor": 4
}
