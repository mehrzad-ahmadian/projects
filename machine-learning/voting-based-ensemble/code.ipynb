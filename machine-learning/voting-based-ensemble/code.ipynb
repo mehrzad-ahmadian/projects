{
  "cells": [
    {
      "cell_type": "code",
      "execution_count": 1,
      "id": "b326f43c",
      "metadata": {
        "id": "b326f43c"
      },
      "outputs": [],
      "source": [
        "import pandas as pd\n",
        "\n",
        "# load data\n",
        "df = pd.read_csv('data/data.csv', index_col='Sample Code Number', na_values='?')\n",
        "df = df.dropna()\n",
        "\n",
        "X = df.iloc[:,:-1]\n",
        "y = df.iloc[:,-1]"
      ]
    },
    {
      "cell_type": "markdown",
      "id": "48dc04da",
      "metadata": {
        "id": "48dc04da"
      },
      "source": [
        "# Define Classifiers"
      ]
    },
    {
      "cell_type": "code",
      "execution_count": 2,
      "id": "a5acae1f",
      "metadata": {
        "id": "a5acae1f"
      },
      "outputs": [],
      "source": [
        "from sklearn.linear_model import LogisticRegression\n",
        "from sklearn.tree import DecisionTreeClassifier\n",
        "from sklearn.svm import SVC\n",
        "\n",
        "clf_LR = LogisticRegression()\n",
        "clf_DT = DecisionTreeClassifier()\n",
        "clf_SVM_RBF = SVC(kernel='rbf')"
      ]
    },
    {
      "cell_type": "code",
      "execution_count": 3,
      "id": "b96602f0",
      "metadata": {
        "id": "b96602f0"
      },
      "outputs": [],
      "source": [
        "from sklearn.model_selection import KFold\n",
        "from sklearn.ensemble import VotingClassifier\n",
        "\n",
        "from sklearn.metrics import accuracy_score\n",
        "\n",
        "kf = KFold(n_splits=10, shuffle=True)\n",
        "acc_per_fold = []\n",
        "\n",
        "for train_index, test_index in kf.split(X):\n",
        "    X_train = X.iloc[train_index]\n",
        "    X_test = X.iloc[test_index]\n",
        "    y_train = y.iloc[train_index]\n",
        "    y_test = y.iloc[test_index]\n",
        "\n",
        "    clf_ensemble = VotingClassifier(estimators=[\n",
        "        ('LR', clf_LR), ('DT', clf_DT), ('SVM', clf_SVM_RBF)], voting='hard')\n",
        "\n",
        "    clf_ensemble.fit(X_train, y_train)\n",
        "    y_pred = clf_ensemble.predict(X_test)\n",
        "    acc_per_fold.append(accuracy_score(y_test, y_pred))\n"
      ]
    },
    {
      "cell_type": "code",
      "execution_count": 4,
      "id": "219013e9",
      "metadata": {
        "colab": {
          "base_uri": "https://localhost:8080/"
        },
        "id": "219013e9",
        "outputId": "c5e294a8-ef6e-4c37-8350-5705deaf7148"
      },
      "outputs": [
        {
          "output_type": "stream",
          "name": "stdout",
          "text": [
            "Accuracy of ensemble classifier per each fold\n"
          ]
        },
        {
          "output_type": "execute_result",
          "data": {
            "text/plain": [
              "[0.927536231884058,\n",
              " 0.9565217391304348,\n",
              " 0.9565217391304348,\n",
              " 0.9705882352941176,\n",
              " 0.9558823529411765,\n",
              " 0.9852941176470589,\n",
              " 1.0,\n",
              " 0.9852941176470589,\n",
              " 0.9852941176470589,\n",
              " 0.9705882352941176]"
            ]
          },
          "metadata": {},
          "execution_count": 4
        }
      ],
      "source": [
        "print('Accuracy of ensemble classifier per each fold')\n",
        "acc_per_fold"
      ]
    },
    {
      "cell_type": "code",
      "execution_count": 5,
      "id": "9097c495",
      "metadata": {
        "colab": {
          "base_uri": "https://localhost:8080/"
        },
        "id": "9097c495",
        "outputId": "d8783acc-e4fc-4fbc-e735-a09abe05b664"
      },
      "outputs": [
        {
          "output_type": "stream",
          "name": "stdout",
          "text": [
            "Average accuracy of ensemble classifier : 0.9694\n"
          ]
        }
      ],
      "source": [
        "import numpy as np\n",
        "\n",
        "print('Average accuracy of ensemble classifier : %.4f' % np.mean(acc_per_fold))"
      ]
    }
  ],
  "metadata": {
    "kernelspec": {
      "display_name": "Python 3 (ipykernel)",
      "language": "python",
      "name": "python3"
    },
    "language_info": {
      "codemirror_mode": {
        "name": "ipython",
        "version": 3
      },
      "file_extension": ".py",
      "mimetype": "text/x-python",
      "name": "python",
      "nbconvert_exporter": "python",
      "pygments_lexer": "ipython3",
      "version": "3.11.5"
    },
    "colab": {
      "provenance": []
    }
  },
  "nbformat": 4,
  "nbformat_minor": 5
}